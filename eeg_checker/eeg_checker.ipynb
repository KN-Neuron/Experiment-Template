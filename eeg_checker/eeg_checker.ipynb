{
 "cells": [
  {
   "cell_type": "code",
   "execution_count": null,
   "id": "76f548dd",
   "metadata": {},
   "outputs": [],
   "source": [
    "from utils import preprocess_data\n",
    "\n",
    "FILE_TO_CHECK = \"test/1_raw.fif\"\n",
    "TMIN = 0\n",
    "TMAX = 10\n",
    "\n",
    "data = preprocess_data(FILE_TO_CHECK)\n",
    "\n",
    "display(data)\n",
    "data.crop(tmin=TMIN, tmax=TMAX).plot();"
   ]
  }
 ],
 "metadata": {
  "kernelspec": {
   "display_name": "test",
   "language": "python",
   "name": "python3"
  },
  "language_info": {
   "codemirror_mode": {
    "name": "ipython",
    "version": 3
   },
   "file_extension": ".py",
   "mimetype": "text/x-python",
   "name": "python",
   "nbconvert_exporter": "python",
   "pygments_lexer": "ipython3",
   "version": "3.13.2"
  }
 },
 "nbformat": 4,
 "nbformat_minor": 5
}
